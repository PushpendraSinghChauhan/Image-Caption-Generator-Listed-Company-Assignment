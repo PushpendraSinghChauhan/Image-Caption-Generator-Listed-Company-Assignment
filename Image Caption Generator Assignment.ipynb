{
 "cells": [
  {
   "cell_type": "code",
   "execution_count": 2,
   "id": "2782862e",
   "metadata": {},
   "outputs": [
    {
     "name": "stdout",
     "output_type": "stream",
     "text": [
      "Running on local URL:  http://127.0.0.1:7860\n",
      "\n",
      "To create a public link, set `share=True` in `launch()`.\n"
     ]
    },
    {
     "data": {
      "text/html": [
       "<div><iframe src=\"http://127.0.0.1:7860/\" width=\"100%\" height=\"500\" allow=\"autoplay; camera; microphone; clipboard-read; clipboard-write;\" frameborder=\"0\" allowfullscreen></iframe></div>"
      ],
      "text/plain": [
       "<IPython.core.display.HTML object>"
      ]
     },
     "metadata": {},
     "output_type": "display_data"
    },
    {
     "name": "stdout",
     "output_type": "stream",
     "text": [
      "Keyboard interruption in main thread... closing server.\n"
     ]
    },
    {
     "data": {
      "text/plain": []
     },
     "execution_count": 2,
     "metadata": {},
     "output_type": "execute_result"
    }
   ],
   "source": [
    "from caption_functions import *\n",
    "import numpy as np\n",
    "import gradio as gr\n",
    "import warnings\n",
    "warnings.filterwarnings(\"ignore\")\n",
    "\n",
    "\n",
    "def single_caption(image):\n",
    "    return generate_single_caption(image)\n",
    "\n",
    "\n",
    "def multiple_captions(image):\n",
    "    return generate_multiple_captions(image)\n",
    "\n",
    "def clear():\n",
    "    return None, None\n",
    "\n",
    "def clear_all():\n",
    "    return None, None,None, None,None\n",
    "\n",
    "\n",
    "with gr.Blocks() as demo:\n",
    "    gr.Markdown(\"**IMAGE CAPTION GENERATOR**\")\n",
    "    with gr.Tab(\"Single Caption\"):\n",
    "        with gr.Row():\n",
    "            single_image_input = gr.Image(label=\"Image: \",type=\"pil\")\n",
    "            text_output = gr.Textbox(label=\"Caption : \")\n",
    "        with gr.Row():    \n",
    "            single_submit_button = gr.Button(\"Submit\", variant=\"primary\")\n",
    "            single_clear_button = gr.Button(\"Clear\")\n",
    "        gr.Examples([\"Image1.png\",\"Image2.png\",\"Image3.png\"],inputs=single_image_input)\n",
    "    with gr.Tab(\"Multiple Captions\"):\n",
    "        with gr.Row().style(equal_height=True):\n",
    "            with gr.Column():\n",
    "                image_input = gr.Image(label=\"Image: \",type=\"pil\")\n",
    "            with gr.Column():\n",
    "                text_output1 = gr.Textbox(label=\"Caption 1: \")    \n",
    "                text_output2 = gr.Textbox(label=\"Caption 2: \")   \n",
    "                text_output3 = gr.Textbox(label=\"Caption 3: \")   \n",
    "                text_output4 = gr.Textbox(label=\"Caption 4: \")   \n",
    "        with gr.Row():    \n",
    "            multiple_submit_button = gr.Button(\"Submit\", variant=\"primary\")\n",
    "            multiple_clear_button = gr.Button(\"Clear\")\n",
    "        gr.Examples([\"Image1.png\",\"Image2.png\",\"Image3.png\"],inputs=image_input)\n",
    "    # Submit button for Single caption \n",
    "    single_submit_button.click(single_caption, inputs=single_image_input, outputs=text_output)\n",
    "    # Submit button for multiple captions\n",
    "    multi_outputs = [text_output1, text_output2, text_output3, text_output4]\n",
    "    multiple_submit_button.click(multiple_captions, inputs=image_input, outputs=multi_outputs)\n",
    "    # Clear button for single caption\n",
    "    single_clear_button.click(fn=clear, inputs=None, outputs=[single_image_input, text_output])\n",
    "    # Clear button for multiple captions\n",
    "    multiple_outputs =[image_input, text_output1, text_output2, text_output3, text_output4]\n",
    "    multiple_clear_button.click(fn=clear_all, inputs=None, outputs=multiple_outputs) \n",
    "    \n",
    "demo.launch(debug=True)"
   ]
  },
  {
   "cell_type": "code",
   "execution_count": null,
   "id": "094a6753",
   "metadata": {},
   "outputs": [],
   "source": []
  }
 ],
 "metadata": {
  "kernelspec": {
   "display_name": "Python 3 (ipykernel)",
   "language": "python",
   "name": "python3"
  },
  "language_info": {
   "codemirror_mode": {
    "name": "ipython",
    "version": 3
   },
   "file_extension": ".py",
   "mimetype": "text/x-python",
   "name": "python",
   "nbconvert_exporter": "python",
   "pygments_lexer": "ipython3",
   "version": "3.9.12"
  }
 },
 "nbformat": 4,
 "nbformat_minor": 5
}
